{
  "nbformat": 4,
  "nbformat_minor": 0,
  "metadata": {
    "colab": {
      "provenance": [],
      "authorship_tag": "ABX9TyPfnh4f8jOyBlf7Tfs2aRTV",
      "include_colab_link": true
    },
    "kernelspec": {
      "name": "python3",
      "display_name": "Python 3"
    },
    "language_info": {
      "name": "python"
    }
  },
  "cells": [
    {
      "cell_type": "markdown",
      "metadata": {
        "id": "view-in-github",
        "colab_type": "text"
      },
      "source": [
        "<a href=\"https://colab.research.google.com/github/Adviyenurx1/veri-bilimi-yaz-kamp-/blob/main/%C3%96dev10.ipynb\" target=\"_parent\"><img src=\"https://colab.research.google.com/assets/colab-badge.svg\" alt=\"Open In Colab\"/></a>"
      ]
    },
    {
      "cell_type": "code",
      "execution_count": null,
      "metadata": {
        "id": "Gb6L-Jhr0RDL"
      },
      "outputs": [],
      "source": [
        "dogum_yili = int(input(\"Doğum yılınızı giriniz: \"))\n",
        "\n",
        "yas = 2025 - dogum_yili\n",
        "\n",
        "mesaj = (yas <= 12 and \"Çocuksunuz\") or (13 <= yas <= 17 and \"Ergensiniz\") or \"Yetişkinsiniz\"\n",
        "\n",
        "print(mesaj)"
      ]
    }
  ]
}