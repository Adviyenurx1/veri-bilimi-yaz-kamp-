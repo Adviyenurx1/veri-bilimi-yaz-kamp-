{
  "nbformat": 4,
  "nbformat_minor": 0,
  "metadata": {
    "colab": {
      "provenance": [],
      "authorship_tag": "ABX9TyNnKVk/zKgYneqqLSImqvlU",
      "include_colab_link": true
    },
    "kernelspec": {
      "name": "python3",
      "display_name": "Python 3"
    },
    "language_info": {
      "name": "python"
    }
  },
  "cells": [
    {
      "cell_type": "markdown",
      "metadata": {
        "id": "view-in-github",
        "colab_type": "text"
      },
      "source": [
        "<a href=\"https://colab.research.google.com/github/Adviyenurx1/veri-bilimi-yaz-kamp-/blob/main/%C3%96dev9.ipynb\" target=\"_parent\"><img src=\"https://colab.research.google.com/assets/colab-badge.svg\" alt=\"Open In Colab\"/></a>"
      ]
    },
    {
      "cell_type": "code",
      "execution_count": null,
      "metadata": {
        "id": "TeIZU58emEAo"
      },
      "outputs": [],
      "source": [
        "urun1 = float(input(\"1. ürünün fiyatını giriniz: \"))\n",
        "urun2 = float(input(\"2. ürünün fiyatını giriniz: \"))\n",
        "urun3 = float(input(\"3. ürünün fiyatını giriniz: \"))\n",
        "\n",
        "toplam = urun1 + urun2 + urun3\n",
        "print(\"Toplam fiyat:\", toplam, \"TL\")\n",
        "\n",
        "\n",
        "toplam = (toplam > 200 and (toplam - toplam * 0.10)) or toplam\n",
        "\n",
        "\n",
        "print(\"Ödenecek tutar:\", toplam, \"TL\")"
      ]
    }
  ]
}