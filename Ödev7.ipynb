{
  "nbformat": 4,
  "nbformat_minor": 0,
  "metadata": {
    "colab": {
      "provenance": [],
      "authorship_tag": "ABX9TyOnuI99St0RfE4oZzY0g0hs",
      "include_colab_link": true
    },
    "kernelspec": {
      "name": "python3",
      "display_name": "Python 3"
    },
    "language_info": {
      "name": "python"
    }
  },
  "cells": [
    {
      "cell_type": "markdown",
      "metadata": {
        "id": "view-in-github",
        "colab_type": "text"
      },
      "source": [
        "<a href=\"https://colab.research.google.com/github/Adviyenurx1/veri-bilimi-yaz-kamp-/blob/main/%C3%96dev7.ipynb\" target=\"_parent\"><img src=\"https://colab.research.google.com/assets/colab-badge.svg\" alt=\"Open In Colab\"/></a>"
      ]
    },
    {
      "cell_type": "code",
      "execution_count": null,
      "metadata": {
        "id": "sD8wtnd_iZk3"
      },
      "outputs": [],
      "source": [
        "fiyat = float(input(\"Ürün fiyatını giriniz: \"))\n",
        "indirim = float(input(\"İndirim oranını giriniz (%): \"))\n",
        "\n",
        "indirimli_fiyat = fiyat - (fiyat * indirim / 100)\n",
        "\n",
        "print(\"İndirimli fiyat:\", indirimli_fiyat)"
      ]
    }
  ]
}