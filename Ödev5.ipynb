{
  "nbformat": 4,
  "nbformat_minor": 0,
  "metadata": {
    "colab": {
      "provenance": [],
      "authorship_tag": "ABX9TyNL6P5VQYWoGTEvLcW1wDWg",
      "include_colab_link": true
    },
    "kernelspec": {
      "name": "python3",
      "display_name": "Python 3"
    },
    "language_info": {
      "name": "python"
    }
  },
  "cells": [
    {
      "cell_type": "markdown",
      "metadata": {
        "id": "view-in-github",
        "colab_type": "text"
      },
      "source": [
        "<a href=\"https://colab.research.google.com/github/Adviyenurx1/veri-bilimi-yaz-kamp-/blob/main/%C3%96dev5.ipynb\" target=\"_parent\"><img src=\"https://colab.research.google.com/assets/colab-badge.svg\" alt=\"Open In Colab\"/></a>"
      ]
    },
    {
      "cell_type": "code",
      "execution_count": null,
      "metadata": {
        "id": "JyhPABQCgWsJ"
      },
      "outputs": [],
      "source": [
        "matematik = int(input(\"Matematik notunu giriniz: \"))\n",
        "fizik = int(input(\"Fizik notunu giriniz: \"))\n",
        "kimya = int(input(\"Kimya notunu giriniz: \"))\n",
        "\n",
        "ortalama = (matematik + fizik + kimya) / 3\n",
        "print(\"Ortalama:\", ortalama)\n",
        "\n",
        "sonuc = (ortalama > 50 and \"Geçti\") or \"Kaldı\"\n",
        "print(sonuc)"
      ]
    }
  ]
}