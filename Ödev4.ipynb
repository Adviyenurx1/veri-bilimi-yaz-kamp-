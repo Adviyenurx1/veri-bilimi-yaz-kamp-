{
  "nbformat": 4,
  "nbformat_minor": 0,
  "metadata": {
    "colab": {
      "provenance": [],
      "authorship_tag": "ABX9TyOHm2cWnmVxi4sbnsotvfwN",
      "include_colab_link": true
    },
    "kernelspec": {
      "name": "python3",
      "display_name": "Python 3"
    },
    "language_info": {
      "name": "python"
    }
  },
  "cells": [
    {
      "cell_type": "markdown",
      "metadata": {
        "id": "view-in-github",
        "colab_type": "text"
      },
      "source": [
        "<a href=\"https://colab.research.google.com/github/Adviyenurx1/veri-bilimi-yaz-kamp-/blob/main/%C3%96dev4.ipynb\" target=\"_parent\"><img src=\"https://colab.research.google.com/assets/colab-badge.svg\" alt=\"Open In Colab\"/></a>"
      ]
    },
    {
      "cell_type": "code",
      "execution_count": null,
      "metadata": {
        "id": "IAtm5MUpn2wP"
      },
      "outputs": [],
      "source": [
        "sayi1 = float(input(\"Birinci sayıyı girin: \"))\n",
        "sayi2 = float(input(\"İkinci sayıyı girin: \"))\n",
        "\n",
        "\n",
        "print(\"Toplama:\", sayi1 + sayi2)\n",
        "\n",
        "print(\"Çıkarma:\", sayi1 - sayi2)\n",
        "\n",
        "print(\"Çarpma:\", sayi1 * sayi2)\n",
        "\n",
        "print(\"Bölme:\", sayi1 / sayi2)\n",
        "\n",
        "print(\"Mod:\", sayi1 % sayi2)"
      ]
    }
  ]
}