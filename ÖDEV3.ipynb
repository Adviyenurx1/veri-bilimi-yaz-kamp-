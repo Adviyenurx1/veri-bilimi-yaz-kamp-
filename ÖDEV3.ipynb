{
  "nbformat": 4,
  "nbformat_minor": 0,
  "metadata": {
    "colab": {
      "provenance": [],
      "authorship_tag": "ABX9TyP8qCVVxoY3f/5g39h9hlDO",
      "include_colab_link": true
    },
    "kernelspec": {
      "name": "python3",
      "display_name": "Python 3"
    },
    "language_info": {
      "name": "python"
    }
  },
  "cells": [
    {
      "cell_type": "markdown",
      "metadata": {
        "id": "view-in-github",
        "colab_type": "text"
      },
      "source": [
        "<a href=\"https://colab.research.google.com/github/Adviyenurx1/veri-bilimi-yaz-kamp-/blob/main/%C3%96DEV3.ipynb\" target=\"_parent\"><img src=\"https://colab.research.google.com/assets/colab-badge.svg\" alt=\"Open In Colab\"/></a>"
      ]
    },
    {
      "cell_type": "code",
      "execution_count": null,
      "metadata": {
        "id": "yosnMXUvvdxd"
      },
      "outputs": [],
      "source": [
        "metin = \"Yapay Zeka\"\n",
        "\n",
        "ilk_karakter = metin[0]\n",
        "\n",
        "\n",
        "son_karakter = metin[-1]\n",
        "\n",
        "uzunluk = len(metin)\n",
        "\n",
        "ters_metin = metin[::-1]\n",
        "\n",
        "print(\"İlk karakter:\", ilk_karakter)\n",
        "print(\"Son karakter:\", son_karakter)\n",
        "print(\"Uzunluk:\", uzunluk)\n",
        "print(\"Ters çevrilmiş hali:\", ters_metin)"
      ]
    }
  ]
}