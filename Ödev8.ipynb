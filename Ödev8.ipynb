{
  "nbformat": 4,
  "nbformat_minor": 0,
  "metadata": {
    "colab": {
      "provenance": [],
      "authorship_tag": "ABX9TyM/RucVtGuYfw5cRcRs8UGE",
      "include_colab_link": true
    },
    "kernelspec": {
      "name": "python3",
      "display_name": "Python 3"
    },
    "language_info": {
      "name": "python"
    }
  },
  "cells": [
    {
      "cell_type": "markdown",
      "metadata": {
        "id": "view-in-github",
        "colab_type": "text"
      },
      "source": [
        "<a href=\"https://colab.research.google.com/github/Adviyenurx1/veri-bilimi-yaz-kamp-/blob/main/%C3%96dev8.ipynb\" target=\"_parent\"><img src=\"https://colab.research.google.com/assets/colab-badge.svg\" alt=\"Open In Colab\"/></a>"
      ]
    },
    {
      "cell_type": "code",
      "execution_count": null,
      "metadata": {
        "id": "PsRMYZVLjQWO"
      },
      "outputs": [],
      "source": [
        "a = True\n",
        "b = False\n",
        "\n",
        "print(\"a =\", a)\n",
        "print(\"b =\", b)\n",
        "\n",
        "print(\"a and b =\", a and b)\n",
        "print(\"a and True =\", a and True)\n",
        "print(\"b and False =\", b and False)\n",
        "\n",
        "print(\"a or b =\", a or b)\n",
        "print(\"b or False =\", b or False)\n",
        "print(\"a or True =\", a or True)\n",
        "\n",
        "print(\"not a =\", not a)\n",
        "print(\"not b =\", not b)"
      ]
    }
  ]
}