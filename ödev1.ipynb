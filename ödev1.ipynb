{
  "nbformat": 4,
  "nbformat_minor": 0,
  "metadata": {
    "colab": {
      "provenance": [],
      "authorship_tag": "ABX9TyMINNOIBjo1El2wwl9xp93/",
      "include_colab_link": true
    },
    "kernelspec": {
      "name": "python3",
      "display_name": "Python 3"
    },
    "language_info": {
      "name": "python"
    }
  },
  "cells": [
    {
      "cell_type": "markdown",
      "metadata": {
        "id": "view-in-github",
        "colab_type": "text"
      },
      "source": [
        "<a href=\"https://colab.research.google.com/github/Adviyenurx1/veri-bilimi-yaz-kamp-/blob/main/%C3%B6dev1.ipynb\" target=\"_parent\"><img src=\"https://colab.research.google.com/assets/colab-badge.svg\" alt=\"Open In Colab\"/></a>"
      ]
    },
    {
      "cell_type": "code",
      "execution_count": null,
      "metadata": {
        "id": "kMY3O0UNn9dp"
      },
      "outputs": [],
      "source": [
        "ad = input(\"Kullanıcı adını giriniz:\")\n",
        "yas = int(input(\"Kullanıcı yaşını giriniz:\"))\n",
        "boy = float(input(\"Kullanıcı boyunu giriniz:\"))\n",
        "print(f\"Merhaba {ad}, {yas} yaşındasın ve boyun {boy} metredir.\")\n"
      ]
    }
  ]
}