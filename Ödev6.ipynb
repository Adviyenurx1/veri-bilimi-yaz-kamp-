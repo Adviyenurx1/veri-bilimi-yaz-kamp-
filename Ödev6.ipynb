{
  "nbformat": 4,
  "nbformat_minor": 0,
  "metadata": {
    "colab": {
      "provenance": [],
      "authorship_tag": "ABX9TyM6PTKxbzl0mSKWE5ANzE1f",
      "include_colab_link": true
    },
    "kernelspec": {
      "name": "python3",
      "display_name": "Python 3"
    },
    "language_info": {
      "name": "python"
    }
  },
  "cells": [
    {
      "cell_type": "markdown",
      "metadata": {
        "id": "view-in-github",
        "colab_type": "text"
      },
      "source": [
        "<a href=\"https://colab.research.google.com/github/Adviyenurx1/veri-bilimi-yaz-kamp-/blob/main/%C3%96dev6.ipynb\" target=\"_parent\"><img src=\"https://colab.research.google.com/assets/colab-badge.svg\" alt=\"Open In Colab\"/></a>"
      ]
    },
    {
      "cell_type": "code",
      "execution_count": 2,
      "metadata": {
        "colab": {
          "base_uri": "https://localhost:8080/"
        },
        "id": "pYABK_VPhqAz",
        "outputId": "989ad6a0-22fd-4fa1-8fb0-ae3f84a12755"
      },
      "outputs": [
        {
          "output_type": "stream",
          "name": "stdout",
          "text": [
            "Yaşınızı giriniz: 10\n",
            "Ehliyet alamazsınız\n"
          ]
        }
      ],
      "source": [
        "yas = int(input(\"Yaşınızı giriniz: \"))\n",
        "\n",
        "sonuc = (yas > 18 and \"Ehliyet alabilirsiniz\") or \"Ehliyet alamazsınız\"\n",
        "print(sonuc)"
      ]
    }
  ]
}